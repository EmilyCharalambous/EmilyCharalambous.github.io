{
  "nbformat": 4,
  "nbformat_minor": 0,
  "metadata": {
    "colab": {
      "provenance": [],
      "authorship_tag": "ABX9TyNc49E/t6ASXYMpagkjypnA",
      "include_colab_link": true
    },
    "kernelspec": {
      "name": "python3",
      "display_name": "Python 3"
    },
    "language_info": {
      "name": "python"
    }
  },
  "cells": [
    {
      "cell_type": "markdown",
      "metadata": {
        "id": "view-in-github",
        "colab_type": "text"
      },
      "source": [
        "<a href=\"https://colab.research.google.com/github/EmilyCharalambous/EmilyCharalambous.github.io/blob/main/UK_Map.ipynb\" target=\"_parent\"><img src=\"https://colab.research.google.com/assets/colab-badge.svg\" alt=\"Open In Colab\"/></a>"
      ]
    },
    {
      "cell_type": "code",
      "execution_count": 1,
      "metadata": {
        "id": "xDeT2EX3wsoq"
      },
      "outputs": [],
      "source": [
        "from IPython.display import IFrame as iframe"
      ]
    },
    {
      "cell_type": "code",
      "source": [
        "iframe('file:///C:/Users/Emily/Downloads/kepler.gl%20(1).html', width=120, height=600)"
      ],
      "metadata": {
        "colab": {
          "base_uri": "https://localhost:8080/",
          "height": 622
        },
        "id": "hyUscgA8w8L8",
        "outputId": "917eb903-cf4f-4651-eb36-66b457706cf6"
      },
      "execution_count": 2,
      "outputs": [
        {
          "output_type": "execute_result",
          "data": {
            "text/plain": [
              "<IPython.lib.display.IFrame at 0x7fb54c843160>"
            ],
            "text/html": [
              "\n",
              "        <iframe\n",
              "            width=\"120\"\n",
              "            height=\"600\"\n",
              "            src=\"file:///C:/Users/Emily/Downloads/kepler.gl%20(1).html\"\n",
              "            frameborder=\"0\"\n",
              "            allowfullscreen\n",
              "        ></iframe>\n",
              "        "
            ]
          },
          "metadata": {},
          "execution_count": 2
        }
      ]
    },
    {
      "cell_type": "code",
      "source": [],
      "metadata": {
        "id": "e5j9HXn9x_QG"
      },
      "execution_count": null,
      "outputs": []
    }
  ]
}