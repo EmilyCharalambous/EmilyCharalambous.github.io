{
  "nbformat": 4,
  "nbformat_minor": 0,
  "metadata": {
    "colab": {
      "provenance": [],
      "authorship_tag": "ABX9TyOnitKzlxzC1dqlaIClg2bu",
      "include_colab_link": true
    },
    "kernelspec": {
      "name": "python3",
      "display_name": "Python 3"
    },
    "language_info": {
      "name": "python"
    }
  },
  "cells": [
    {
      "cell_type": "markdown",
      "metadata": {
        "id": "view-in-github",
        "colab_type": "text"
      },
      "source": [
        "<a href=\"https://colab.research.google.com/github/EmilyCharalambous/EmilyCharalambous.github.io/blob/main/Wk3Class.ipynb\" target=\"_parent\"><img src=\"https://colab.research.google.com/assets/colab-badge.svg\" alt=\"Open In Colab\"/></a>"
      ]
    },
    {
      "cell_type": "markdown",
      "source": [
        "This is a nice **comments**"
      ],
      "metadata": {
        "id": "BfW3PCIQrSQt"
      }
    },
    {
      "cell_type": "markdown",
      "source": [
        "Arrays, vectors, lists\n"
      ],
      "metadata": {
        "id": "w1wJqEyhrLo1"
      }
    },
    {
      "cell_type": "code",
      "source": [
        "a[4][0]"
      ],
      "metadata": {
        "colab": {
          "base_uri": "https://localhost:8080/"
        },
        "id": "qaIZsd98sGe7",
        "outputId": "c6b49907-da98-45ea-b8cc-d80ba2b23b27"
      },
      "execution_count": null,
      "outputs": [
        {
          "output_type": "execute_result",
          "data": {
            "text/plain": [
              "5"
            ]
          },
          "metadata": {},
          "execution_count": 9
        }
      ]
    },
    {
      "cell_type": "markdown",
      "source": [
        "Dictionary, Object, Hash Table"
      ],
      "metadata": {
        "id": "5Cbu5vfQsRHD"
      }
    },
    {
      "cell_type": "code",
      "source": [
        "b={'alfa':1,\n",
        "   'beta':27,\n",
        "   'gamma':[0,1,2],\n",
        "   'delta':'67.3',\n",
        "   '98':{'a':5,\n",
        "         'b':7}}\n",
        "b['gamma']['98']"
      ],
      "metadata": {
        "colab": {
          "base_uri": "https://localhost:8080/",
          "height": 200
        },
        "id": "LoWtdU3YsaZV",
        "outputId": "87afe306-bc80-4a6e-97f9-56de50ef66ee"
      },
      "execution_count": null,
      "outputs": [
        {
          "output_type": "error",
          "ename": "TypeError",
          "evalue": "ignored",
          "traceback": [
            "\u001b[0;31m---------------------------------------------------------------------------\u001b[0m",
            "\u001b[0;31mTypeError\u001b[0m                                 Traceback (most recent call last)",
            "\u001b[0;32m<ipython-input-23-c34818bf535b>\u001b[0m in \u001b[0;36m<module>\u001b[0;34m\u001b[0m\n\u001b[1;32m      5\u001b[0m    '98':{'a':5,\n\u001b[1;32m      6\u001b[0m          'b':7}}\n\u001b[0;32m----> 7\u001b[0;31m \u001b[0mb\u001b[0m\u001b[0;34m[\u001b[0m\u001b[0;34m'gamma'\u001b[0m\u001b[0;34m]\u001b[0m\u001b[0;34m[\u001b[0m\u001b[0;34m'98'\u001b[0m\u001b[0;34m]\u001b[0m\u001b[0;34m\u001b[0m\u001b[0;34m\u001b[0m\u001b[0m\n\u001b[0m",
            "\u001b[0;31mTypeError\u001b[0m: list indices must be integers or slices, not str"
          ]
        }
      ]
    },
    {
      "cell_type": "code",
      "source": [
        "b['delta']"
      ],
      "metadata": {
        "colab": {
          "base_uri": "https://localhost:8080/",
          "height": 36
        },
        "id": "y4eQCqF0s4ye",
        "outputId": "d9427807-7617-4634-f36e-9e93a3d8ba4b"
      },
      "execution_count": null,
      "outputs": [
        {
          "output_type": "execute_result",
          "data": {
            "text/plain": [
              "'67.3'"
            ],
            "application/vnd.google.colaboratory.intrinsic+json": {
              "type": "string"
            }
          },
          "metadata": {},
          "execution_count": 14
        }
      ]
    },
    {
      "cell_type": "code",
      "source": [
        "b['98']"
      ],
      "metadata": {
        "id": "dLlrHdObtViX",
        "colab": {
          "base_uri": "https://localhost:8080/"
        },
        "outputId": "90011df7-b825-4ef8-b902-2124cd34676e"
      },
      "execution_count": null,
      "outputs": [
        {
          "output_type": "execute_result",
          "data": {
            "text/plain": [
              "{'a': 5, 'b': 7}"
            ]
          },
          "metadata": {},
          "execution_count": 19
        }
      ]
    },
    {
      "cell_type": "code",
      "source": [
        "b.keys(), b.values()"
      ],
      "metadata": {
        "colab": {
          "base_uri": "https://localhost:8080/"
        },
        "id": "kas9OCz2fjgo",
        "outputId": "b76d06ad-9b41-421e-e932-cc9a99b471f1"
      },
      "execution_count": null,
      "outputs": [
        {
          "output_type": "execute_result",
          "data": {
            "text/plain": [
              "(dict_keys(['alfa', 'beta', 'gamma', 'delta', '98']),\n",
              " dict_values([1, 27, [0, 1, 2], '67.3', {'a': 5, 'b': 7}]))"
            ]
          },
          "metadata": {},
          "execution_count": 32
        }
      ]
    },
    {
      "cell_type": "code",
      "source": [
        "a = [2,3,4, 'fdfd', [5,6]]\n",
        "a\n",
        "\n",
        "\n"
      ],
      "metadata": {
        "id": "RuVqDKgirZ5i",
        "colab": {
          "base_uri": "https://localhost:8080/"
        },
        "outputId": "95f62bda-9a5e-49d9-d444-d2eafb5c09b0"
      },
      "execution_count": null,
      "outputs": [
        {
          "output_type": "execute_result",
          "data": {
            "text/plain": [
              "[2, 3, 4, 'fdfd', [5, 6]]"
            ]
          },
          "metadata": {},
          "execution_count": 12
        }
      ]
    },
    {
      "cell_type": "code",
      "source": [],
      "metadata": {
        "id": "Et3Z7R7f4FzH"
      },
      "execution_count": null,
      "outputs": []
    },
    {
      "cell_type": "code",
      "source": [
        "import pandas as pd "
      ],
      "metadata": {
        "id": "wSd6GHE_eKIK"
      },
      "execution_count": null,
      "outputs": []
    },
    {
      "cell_type": "code",
      "source": [
        "df"
      ],
      "metadata": {
        "colab": {
          "base_uri": "https://localhost:8080/",
          "height": 424
        },
        "id": "69PR2jdd4yxS",
        "outputId": "8b4669db-cd8a-4b9d-c02d-f300c0f7d539"
      },
      "execution_count": null,
      "outputs": [
        {
          "output_type": "execute_result",
          "data": {
            "text/plain": [
              "    Population growth   Year \n",
              "0             0.760460   1961\n",
              "1             0.848661   1962\n",
              "2             0.748366   1963\n",
              "3             0.650258   1964\n",
              "4             0.642469   1965\n",
              "..                 ...    ...\n",
              "56            0.679374   2017\n",
              "57            0.605929   2018\n",
              "58            0.564131   2019\n",
              "59            0.365409   2020\n",
              "60            0.365410   2021\n",
              "\n",
              "[61 rows x 2 columns]"
            ],
            "text/html": [
              "\n",
              "  <div id=\"df-974ff125-0495-467f-8205-396c4a11d62f\">\n",
              "    <div class=\"colab-df-container\">\n",
              "      <div>\n",
              "<style scoped>\n",
              "    .dataframe tbody tr th:only-of-type {\n",
              "        vertical-align: middle;\n",
              "    }\n",
              "\n",
              "    .dataframe tbody tr th {\n",
              "        vertical-align: top;\n",
              "    }\n",
              "\n",
              "    .dataframe thead th {\n",
              "        text-align: right;\n",
              "    }\n",
              "</style>\n",
              "<table border=\"1\" class=\"dataframe\">\n",
              "  <thead>\n",
              "    <tr style=\"text-align: right;\">\n",
              "      <th></th>\n",
              "      <th>Population growth</th>\n",
              "      <th>Year</th>\n",
              "    </tr>\n",
              "  </thead>\n",
              "  <tbody>\n",
              "    <tr>\n",
              "      <th>0</th>\n",
              "      <td>0.760460</td>\n",
              "      <td>1961</td>\n",
              "    </tr>\n",
              "    <tr>\n",
              "      <th>1</th>\n",
              "      <td>0.848661</td>\n",
              "      <td>1962</td>\n",
              "    </tr>\n",
              "    <tr>\n",
              "      <th>2</th>\n",
              "      <td>0.748366</td>\n",
              "      <td>1963</td>\n",
              "    </tr>\n",
              "    <tr>\n",
              "      <th>3</th>\n",
              "      <td>0.650258</td>\n",
              "      <td>1964</td>\n",
              "    </tr>\n",
              "    <tr>\n",
              "      <th>4</th>\n",
              "      <td>0.642469</td>\n",
              "      <td>1965</td>\n",
              "    </tr>\n",
              "    <tr>\n",
              "      <th>...</th>\n",
              "      <td>...</td>\n",
              "      <td>...</td>\n",
              "    </tr>\n",
              "    <tr>\n",
              "      <th>56</th>\n",
              "      <td>0.679374</td>\n",
              "      <td>2017</td>\n",
              "    </tr>\n",
              "    <tr>\n",
              "      <th>57</th>\n",
              "      <td>0.605929</td>\n",
              "      <td>2018</td>\n",
              "    </tr>\n",
              "    <tr>\n",
              "      <th>58</th>\n",
              "      <td>0.564131</td>\n",
              "      <td>2019</td>\n",
              "    </tr>\n",
              "    <tr>\n",
              "      <th>59</th>\n",
              "      <td>0.365409</td>\n",
              "      <td>2020</td>\n",
              "    </tr>\n",
              "    <tr>\n",
              "      <th>60</th>\n",
              "      <td>0.365410</td>\n",
              "      <td>2021</td>\n",
              "    </tr>\n",
              "  </tbody>\n",
              "</table>\n",
              "<p>61 rows × 2 columns</p>\n",
              "</div>\n",
              "      <button class=\"colab-df-convert\" onclick=\"convertToInteractive('df-974ff125-0495-467f-8205-396c4a11d62f')\"\n",
              "              title=\"Convert this dataframe to an interactive table.\"\n",
              "              style=\"display:none;\">\n",
              "        \n",
              "  <svg xmlns=\"http://www.w3.org/2000/svg\" height=\"24px\"viewBox=\"0 0 24 24\"\n",
              "       width=\"24px\">\n",
              "    <path d=\"M0 0h24v24H0V0z\" fill=\"none\"/>\n",
              "    <path d=\"M18.56 5.44l.94 2.06.94-2.06 2.06-.94-2.06-.94-.94-2.06-.94 2.06-2.06.94zm-11 1L8.5 8.5l.94-2.06 2.06-.94-2.06-.94L8.5 2.5l-.94 2.06-2.06.94zm10 10l.94 2.06.94-2.06 2.06-.94-2.06-.94-.94-2.06-.94 2.06-2.06.94z\"/><path d=\"M17.41 7.96l-1.37-1.37c-.4-.4-.92-.59-1.43-.59-.52 0-1.04.2-1.43.59L10.3 9.45l-7.72 7.72c-.78.78-.78 2.05 0 2.83L4 21.41c.39.39.9.59 1.41.59.51 0 1.02-.2 1.41-.59l7.78-7.78 2.81-2.81c.8-.78.8-2.07 0-2.86zM5.41 20L4 18.59l7.72-7.72 1.47 1.35L5.41 20z\"/>\n",
              "  </svg>\n",
              "      </button>\n",
              "      \n",
              "  <style>\n",
              "    .colab-df-container {\n",
              "      display:flex;\n",
              "      flex-wrap:wrap;\n",
              "      gap: 12px;\n",
              "    }\n",
              "\n",
              "    .colab-df-convert {\n",
              "      background-color: #E8F0FE;\n",
              "      border: none;\n",
              "      border-radius: 50%;\n",
              "      cursor: pointer;\n",
              "      display: none;\n",
              "      fill: #1967D2;\n",
              "      height: 32px;\n",
              "      padding: 0 0 0 0;\n",
              "      width: 32px;\n",
              "    }\n",
              "\n",
              "    .colab-df-convert:hover {\n",
              "      background-color: #E2EBFA;\n",
              "      box-shadow: 0px 1px 2px rgba(60, 64, 67, 0.3), 0px 1px 3px 1px rgba(60, 64, 67, 0.15);\n",
              "      fill: #174EA6;\n",
              "    }\n",
              "\n",
              "    [theme=dark] .colab-df-convert {\n",
              "      background-color: #3B4455;\n",
              "      fill: #D2E3FC;\n",
              "    }\n",
              "\n",
              "    [theme=dark] .colab-df-convert:hover {\n",
              "      background-color: #434B5C;\n",
              "      box-shadow: 0px 1px 3px 1px rgba(0, 0, 0, 0.15);\n",
              "      filter: drop-shadow(0px 1px 2px rgba(0, 0, 0, 0.3));\n",
              "      fill: #FFFFFF;\n",
              "    }\n",
              "  </style>\n",
              "\n",
              "      <script>\n",
              "        const buttonEl =\n",
              "          document.querySelector('#df-974ff125-0495-467f-8205-396c4a11d62f button.colab-df-convert');\n",
              "        buttonEl.style.display =\n",
              "          google.colab.kernel.accessAllowed ? 'block' : 'none';\n",
              "\n",
              "        async function convertToInteractive(key) {\n",
              "          const element = document.querySelector('#df-974ff125-0495-467f-8205-396c4a11d62f');\n",
              "          const dataTable =\n",
              "            await google.colab.kernel.invokeFunction('convertToInteractive',\n",
              "                                                     [key], {});\n",
              "          if (!dataTable) return;\n",
              "\n",
              "          const docLinkHtml = 'Like what you see? Visit the ' +\n",
              "            '<a target=\"_blank\" href=https://colab.research.google.com/notebooks/data_table.ipynb>data table notebook</a>'\n",
              "            + ' to learn more about interactive tables.';\n",
              "          element.innerHTML = '';\n",
              "          dataTable['output_type'] = 'display_data';\n",
              "          await google.colab.output.renderOutput(dataTable, element);\n",
              "          const docLink = document.createElement('div');\n",
              "          docLink.innerHTML = docLinkHtml;\n",
              "          element.appendChild(docLink);\n",
              "        }\n",
              "      </script>\n",
              "    </div>\n",
              "  </div>\n",
              "  "
            ]
          },
          "metadata": {},
          "execution_count": 19
        }
      ]
    },
    {
      "cell_type": "code",
      "source": [
        "df = pd.read_csv('population_growth.csv')"
      ],
      "metadata": {
        "id": "bpSOUB-m4Nq2"
      },
      "execution_count": null,
      "outputs": []
    },
    {
      "cell_type": "code",
      "source": [
        "df.T"
      ],
      "metadata": {
        "colab": {
          "base_uri": "https://localhost:8080/",
          "height": 223
        },
        "id": "BN36Us8k7SQM",
        "outputId": "b48689da-e82e-4c59-dc9d-562d99e3ff59"
      },
      "execution_count": null,
      "outputs": [
        {
          "output_type": "execute_result",
          "data": {
            "text/plain": [
              "                            0            1            2            3   \\\n",
              "Population growth      0.76046     0.848661     0.748366     0.650258   \n",
              "Year                1961.00000  1962.000000  1963.000000  1964.000000   \n",
              "\n",
              "                             4            5            6            7   \\\n",
              "Population growth      0.642469     0.551303     0.538544     0.486768   \n",
              "Year                1965.000000  1966.000000  1967.000000  1968.000000   \n",
              "\n",
              "                             8            9   ...           51           52  \\\n",
              "Population growth      0.415803     0.398722  ...     0.695353     0.669741   \n",
              "Year                1969.000000  1970.000000  ...  2012.000000  2013.000000   \n",
              "\n",
              "                             53           54           55           56  \\\n",
              "Population growth      0.736464     0.792368     0.757874     0.679374   \n",
              "Year                2014.000000  2015.000000  2016.000000  2017.000000   \n",
              "\n",
              "                             57           58           59          60  \n",
              "Population growth      0.605929     0.564131     0.365409     0.36541  \n",
              "Year                2018.000000  2019.000000  2020.000000  2021.00000  \n",
              "\n",
              "[2 rows x 61 columns]"
            ],
            "text/html": [
              "\n",
              "  <div id=\"df-03550bbe-95c6-4f04-8579-7befb7c4984f\">\n",
              "    <div class=\"colab-df-container\">\n",
              "      <div>\n",
              "<style scoped>\n",
              "    .dataframe tbody tr th:only-of-type {\n",
              "        vertical-align: middle;\n",
              "    }\n",
              "\n",
              "    .dataframe tbody tr th {\n",
              "        vertical-align: top;\n",
              "    }\n",
              "\n",
              "    .dataframe thead th {\n",
              "        text-align: right;\n",
              "    }\n",
              "</style>\n",
              "<table border=\"1\" class=\"dataframe\">\n",
              "  <thead>\n",
              "    <tr style=\"text-align: right;\">\n",
              "      <th></th>\n",
              "      <th>0</th>\n",
              "      <th>1</th>\n",
              "      <th>2</th>\n",
              "      <th>3</th>\n",
              "      <th>4</th>\n",
              "      <th>5</th>\n",
              "      <th>6</th>\n",
              "      <th>7</th>\n",
              "      <th>8</th>\n",
              "      <th>9</th>\n",
              "      <th>...</th>\n",
              "      <th>51</th>\n",
              "      <th>52</th>\n",
              "      <th>53</th>\n",
              "      <th>54</th>\n",
              "      <th>55</th>\n",
              "      <th>56</th>\n",
              "      <th>57</th>\n",
              "      <th>58</th>\n",
              "      <th>59</th>\n",
              "      <th>60</th>\n",
              "    </tr>\n",
              "  </thead>\n",
              "  <tbody>\n",
              "    <tr>\n",
              "      <th>Population growth</th>\n",
              "      <td>0.76046</td>\n",
              "      <td>0.848661</td>\n",
              "      <td>0.748366</td>\n",
              "      <td>0.650258</td>\n",
              "      <td>0.642469</td>\n",
              "      <td>0.551303</td>\n",
              "      <td>0.538544</td>\n",
              "      <td>0.486768</td>\n",
              "      <td>0.415803</td>\n",
              "      <td>0.398722</td>\n",
              "      <td>...</td>\n",
              "      <td>0.695353</td>\n",
              "      <td>0.669741</td>\n",
              "      <td>0.736464</td>\n",
              "      <td>0.792368</td>\n",
              "      <td>0.757874</td>\n",
              "      <td>0.679374</td>\n",
              "      <td>0.605929</td>\n",
              "      <td>0.564131</td>\n",
              "      <td>0.365409</td>\n",
              "      <td>0.36541</td>\n",
              "    </tr>\n",
              "    <tr>\n",
              "      <th>Year</th>\n",
              "      <td>1961.00000</td>\n",
              "      <td>1962.000000</td>\n",
              "      <td>1963.000000</td>\n",
              "      <td>1964.000000</td>\n",
              "      <td>1965.000000</td>\n",
              "      <td>1966.000000</td>\n",
              "      <td>1967.000000</td>\n",
              "      <td>1968.000000</td>\n",
              "      <td>1969.000000</td>\n",
              "      <td>1970.000000</td>\n",
              "      <td>...</td>\n",
              "      <td>2012.000000</td>\n",
              "      <td>2013.000000</td>\n",
              "      <td>2014.000000</td>\n",
              "      <td>2015.000000</td>\n",
              "      <td>2016.000000</td>\n",
              "      <td>2017.000000</td>\n",
              "      <td>2018.000000</td>\n",
              "      <td>2019.000000</td>\n",
              "      <td>2020.000000</td>\n",
              "      <td>2021.00000</td>\n",
              "    </tr>\n",
              "  </tbody>\n",
              "</table>\n",
              "<p>2 rows × 61 columns</p>\n",
              "</div>\n",
              "      <button class=\"colab-df-convert\" onclick=\"convertToInteractive('df-03550bbe-95c6-4f04-8579-7befb7c4984f')\"\n",
              "              title=\"Convert this dataframe to an interactive table.\"\n",
              "              style=\"display:none;\">\n",
              "        \n",
              "  <svg xmlns=\"http://www.w3.org/2000/svg\" height=\"24px\"viewBox=\"0 0 24 24\"\n",
              "       width=\"24px\">\n",
              "    <path d=\"M0 0h24v24H0V0z\" fill=\"none\"/>\n",
              "    <path d=\"M18.56 5.44l.94 2.06.94-2.06 2.06-.94-2.06-.94-.94-2.06-.94 2.06-2.06.94zm-11 1L8.5 8.5l.94-2.06 2.06-.94-2.06-.94L8.5 2.5l-.94 2.06-2.06.94zm10 10l.94 2.06.94-2.06 2.06-.94-2.06-.94-.94-2.06-.94 2.06-2.06.94z\"/><path d=\"M17.41 7.96l-1.37-1.37c-.4-.4-.92-.59-1.43-.59-.52 0-1.04.2-1.43.59L10.3 9.45l-7.72 7.72c-.78.78-.78 2.05 0 2.83L4 21.41c.39.39.9.59 1.41.59.51 0 1.02-.2 1.41-.59l7.78-7.78 2.81-2.81c.8-.78.8-2.07 0-2.86zM5.41 20L4 18.59l7.72-7.72 1.47 1.35L5.41 20z\"/>\n",
              "  </svg>\n",
              "      </button>\n",
              "      \n",
              "  <style>\n",
              "    .colab-df-container {\n",
              "      display:flex;\n",
              "      flex-wrap:wrap;\n",
              "      gap: 12px;\n",
              "    }\n",
              "\n",
              "    .colab-df-convert {\n",
              "      background-color: #E8F0FE;\n",
              "      border: none;\n",
              "      border-radius: 50%;\n",
              "      cursor: pointer;\n",
              "      display: none;\n",
              "      fill: #1967D2;\n",
              "      height: 32px;\n",
              "      padding: 0 0 0 0;\n",
              "      width: 32px;\n",
              "    }\n",
              "\n",
              "    .colab-df-convert:hover {\n",
              "      background-color: #E2EBFA;\n",
              "      box-shadow: 0px 1px 2px rgba(60, 64, 67, 0.3), 0px 1px 3px 1px rgba(60, 64, 67, 0.15);\n",
              "      fill: #174EA6;\n",
              "    }\n",
              "\n",
              "    [theme=dark] .colab-df-convert {\n",
              "      background-color: #3B4455;\n",
              "      fill: #D2E3FC;\n",
              "    }\n",
              "\n",
              "    [theme=dark] .colab-df-convert:hover {\n",
              "      background-color: #434B5C;\n",
              "      box-shadow: 0px 1px 3px 1px rgba(0, 0, 0, 0.15);\n",
              "      filter: drop-shadow(0px 1px 2px rgba(0, 0, 0, 0.3));\n",
              "      fill: #FFFFFF;\n",
              "    }\n",
              "  </style>\n",
              "\n",
              "      <script>\n",
              "        const buttonEl =\n",
              "          document.querySelector('#df-03550bbe-95c6-4f04-8579-7befb7c4984f button.colab-df-convert');\n",
              "        buttonEl.style.display =\n",
              "          google.colab.kernel.accessAllowed ? 'block' : 'none';\n",
              "\n",
              "        async function convertToInteractive(key) {\n",
              "          const element = document.querySelector('#df-03550bbe-95c6-4f04-8579-7befb7c4984f');\n",
              "          const dataTable =\n",
              "            await google.colab.kernel.invokeFunction('convertToInteractive',\n",
              "                                                     [key], {});\n",
              "          if (!dataTable) return;\n",
              "\n",
              "          const docLinkHtml = 'Like what you see? Visit the ' +\n",
              "            '<a target=\"_blank\" href=https://colab.research.google.com/notebooks/data_table.ipynb>data table notebook</a>'\n",
              "            + ' to learn more about interactive tables.';\n",
              "          element.innerHTML = '';\n",
              "          dataTable['output_type'] = 'display_data';\n",
              "          await google.colab.output.renderOutput(dataTable, element);\n",
              "          const docLink = document.createElement('div');\n",
              "          docLink.innerHTML = docLinkHtml;\n",
              "          element.appendChild(docLink);\n",
              "        }\n",
              "      </script>\n",
              "    </div>\n",
              "  </div>\n",
              "  "
            ]
          },
          "metadata": {},
          "execution_count": 20
        }
      ]
    },
    {
      "cell_type": "code",
      "source": [
        "exported_values = list(df.T.to_dict().values())"
      ],
      "metadata": {
        "id": "4ia_-tCk6UDH"
      },
      "execution_count": null,
      "outputs": []
    },
    {
      "cell_type": "code",
      "source": [
        "import json"
      ],
      "metadata": {
        "id": "w33f2-0Z6f2O"
      },
      "execution_count": null,
      "outputs": []
    },
    {
      "cell_type": "code",
      "source": [
        "open('my_first_json_file.json','w').write(json.dumps(exported_values))"
      ],
      "metadata": {
        "colab": {
          "base_uri": "https://localhost:8080/"
        },
        "id": "nT6--oRg6pon",
        "outputId": "3de92c7d-5370-4a50-ed5d-809d50826223"
      },
      "execution_count": null,
      "outputs": [
        {
          "output_type": "execute_result",
          "data": {
            "text/plain": [
              "3290"
            ]
          },
          "metadata": {},
          "execution_count": 26
        }
      ]
    },
    {
      "cell_type": "code",
      "source": [
        "json.dumps(exported_values)"
      ],
      "metadata": {
        "colab": {
          "base_uri": "https://localhost:8080/",
          "height": 227
        },
        "id": "K467gmxg6xw1",
        "outputId": "f26637ff-aed8-4529-95d9-64d6f2922fff"
      },
      "execution_count": null,
      "outputs": [
        {
          "output_type": "execute_result",
          "data": {
            "text/plain": [
              "'[{\"Population growth \": 0.760459939, \"Year \": 1961.0}, {\"Population growth \": 0.848661388, \"Year \": 1962.0}, {\"Population growth \": 0.748366449, \"Year \": 1963.0}, {\"Population growth \": 0.650257749, \"Year \": 1964.0}, {\"Population growth \": 0.642468779, \"Year \": 1965.0}, {\"Population growth \": 0.551303249, \"Year \": 1966.0}, {\"Population growth \": 0.53854377, \"Year \": 1967.0}, {\"Population growth \": 0.48676828, \"Year \": 1968.0}, {\"Population growth \": 0.415803269, \"Year \": 1969.0}, {\"Population growth \": 0.398722458, \"Year \": 1970.0}, {\"Population growth \": 0.417666617, \"Year \": 1971.0}, {\"Population growth \": 0.339057516, \"Year \": 1972.0}, {\"Population growth \": 0.193198186, \"Year \": 1973.0}, {\"Population growth \": 0.06305921, \"Year \": 1974.0}, {\"Population growth \": -0.007423363, \"Year \": 1975.0}, {\"Population growth \": -0.024603833, \"Year \": 1976.0}, {\"Population growth \": -0.032873848, \"Year \": 1977.0}, {\"Population growth \": 0.005359908, \"Year \": 1978.0}, {\"Population growth \": 0.089728661, \"Year \": 1979.0}, {\"Population growth \": 0.119517254, \"Year \": 1980.0}, {\"Population growth \": 0.034821732, \"Year \": 1981.0}, {\"Population growth \": -0.035842794, \"Year \": 1982.0}, {\"Population growth \": 0.034101374, \"Year \": 1983.0}, {\"Population growth \": 0.158261863, \"Year \": 1984.0}, {\"Population growth \": 0.226951225, \"Year \": 1985.0}, {\"Population growth \": 0.23161023, \"Year \": 1986.0}, {\"Population growth \": 0.212637261, \"Year \": 1987.0}, {\"Population growth \": 0.222063894, \"Year \": 1988.0}, {\"Population growth \": 0.26031145, \"Year \": 1989.0}, {\"Population growth \": 0.298930554, \"Year \": 1990.0}, {\"Population growth \": 0.309247932, \"Year \": 1991.0}, {\"Population growth \": 0.270431182, \"Year \": 1992.0}, {\"Population growth \": 0.239745439, \"Year \": 1993.0}, {\"Population growth \": 0.254586487, \"Year \": 1994.0}, {\"Population growth \": 0.264547417, \"Year \": 1995.0}, {\"Population growth \": 0.254626384, \"Year \": 1996.0}, {\"Population growth \": 0.257553323, \"Year \": 1997.0}, {\"Population growth \": 0.291406085, \"Year \": 1998.0}, {\"Population growth \": 0.333405882, \"Year \": 1999.0}, {\"Population growth \": 0.357300887, \"Year \": 2000.0}, {\"Population growth \": 0.38497597, \"Year \": 2001.0}, {\"Population growth \": 0.42333708, \"Year \": 2002.0}, {\"Population growth \": 0.465641114, \"Year \": 2003.0}, {\"Population growth \": 0.568943113, \"Year \": 2004.0}, {\"Population growth \": 0.686611306, \"Year \": 2005.0}, {\"Population growth \": 0.735048678, \"Year \": 2006.0}, {\"Population growth \": 0.778666112, \"Year \": 2007.0}, {\"Population growth \": 0.787032622, \"Year \": 2008.0}, {\"Population growth \": 0.75639086, \"Year \": 2009.0}, {\"Population growth \": 0.783888647, \"Year \": 2010.0}, {\"Population growth \": 0.781506562, \"Year \": 2011.0}, {\"Population growth \": 0.695353132, \"Year \": 2012.0}, {\"Population growth \": 0.669740536, \"Year \": 2013.0}, {\"Population growth \": 0.736463979, \"Year \": 2014.0}, {\"Population growth \": 0.792367506, \"Year \": 2015.0}, {\"Population growth \": 0.757874493, \"Year \": 2016.0}, {\"Population growth \": 0.679374474, \"Year \": 2017.0}, {\"Population growth \": 0.605929132, \"Year \": 2018.0}, {\"Population growth \": 0.564131113, \"Year \": 2019.0}, {\"Population growth \": 0.365409432, \"Year \": 2020.0}, {\"Population growth \": 0.365409887, \"Year \": 2021.0}]'"
            ],
            "application/vnd.google.colaboratory.intrinsic+json": {
              "type": "string"
            }
          },
          "metadata": {},
          "execution_count": 24
        }
      ]
    },
    {
      "cell_type": "code",
      "source": [
        "df = pd.read_csv('daily_yields.csv')"
      ],
      "metadata": {
        "id": "VPwpO2PbeSRt"
      },
      "execution_count": null,
      "outputs": []
    },
    {
      "cell_type": "code",
      "source": [
        "df"
      ],
      "metadata": {
        "colab": {
          "base_uri": "https://localhost:8080/",
          "height": 424
        },
        "id": "G4KBWlC5ez4z",
        "outputId": "e4e3fc0d-16b7-4d2e-f57e-c145c1091733"
      },
      "execution_count": null,
      "outputs": [
        {
          "output_type": "execute_result",
          "data": {
            "text/plain": [
              "         Maturity     Yield\n",
              "0      2022-07-09  2.154360\n",
              "1      2022-07-10  2.173819\n",
              "2      2022-07-11  2.193279\n",
              "3      2022-07-12  2.212738\n",
              "4      2022-07-13  2.212870\n",
              "...           ...       ...\n",
              "12052  2055-07-08  2.708316\n",
              "12053  2055-07-09  2.706640\n",
              "12054  2055-07-10  2.704965\n",
              "12055  2055-07-11  2.703290\n",
              "12056  2055-07-12  2.701615\n",
              "\n",
              "[12057 rows x 2 columns]"
            ],
            "text/html": [
              "\n",
              "  <div id=\"df-323a27bb-2244-40c5-bc9a-14cd4da66c13\">\n",
              "    <div class=\"colab-df-container\">\n",
              "      <div>\n",
              "<style scoped>\n",
              "    .dataframe tbody tr th:only-of-type {\n",
              "        vertical-align: middle;\n",
              "    }\n",
              "\n",
              "    .dataframe tbody tr th {\n",
              "        vertical-align: top;\n",
              "    }\n",
              "\n",
              "    .dataframe thead th {\n",
              "        text-align: right;\n",
              "    }\n",
              "</style>\n",
              "<table border=\"1\" class=\"dataframe\">\n",
              "  <thead>\n",
              "    <tr style=\"text-align: right;\">\n",
              "      <th></th>\n",
              "      <th>Maturity</th>\n",
              "      <th>Yield</th>\n",
              "    </tr>\n",
              "  </thead>\n",
              "  <tbody>\n",
              "    <tr>\n",
              "      <th>0</th>\n",
              "      <td>2022-07-09</td>\n",
              "      <td>2.154360</td>\n",
              "    </tr>\n",
              "    <tr>\n",
              "      <th>1</th>\n",
              "      <td>2022-07-10</td>\n",
              "      <td>2.173819</td>\n",
              "    </tr>\n",
              "    <tr>\n",
              "      <th>2</th>\n",
              "      <td>2022-07-11</td>\n",
              "      <td>2.193279</td>\n",
              "    </tr>\n",
              "    <tr>\n",
              "      <th>3</th>\n",
              "      <td>2022-07-12</td>\n",
              "      <td>2.212738</td>\n",
              "    </tr>\n",
              "    <tr>\n",
              "      <th>4</th>\n",
              "      <td>2022-07-13</td>\n",
              "      <td>2.212870</td>\n",
              "    </tr>\n",
              "    <tr>\n",
              "      <th>...</th>\n",
              "      <td>...</td>\n",
              "      <td>...</td>\n",
              "    </tr>\n",
              "    <tr>\n",
              "      <th>12052</th>\n",
              "      <td>2055-07-08</td>\n",
              "      <td>2.708316</td>\n",
              "    </tr>\n",
              "    <tr>\n",
              "      <th>12053</th>\n",
              "      <td>2055-07-09</td>\n",
              "      <td>2.706640</td>\n",
              "    </tr>\n",
              "    <tr>\n",
              "      <th>12054</th>\n",
              "      <td>2055-07-10</td>\n",
              "      <td>2.704965</td>\n",
              "    </tr>\n",
              "    <tr>\n",
              "      <th>12055</th>\n",
              "      <td>2055-07-11</td>\n",
              "      <td>2.703290</td>\n",
              "    </tr>\n",
              "    <tr>\n",
              "      <th>12056</th>\n",
              "      <td>2055-07-12</td>\n",
              "      <td>2.701615</td>\n",
              "    </tr>\n",
              "  </tbody>\n",
              "</table>\n",
              "<p>12057 rows × 2 columns</p>\n",
              "</div>\n",
              "      <button class=\"colab-df-convert\" onclick=\"convertToInteractive('df-323a27bb-2244-40c5-bc9a-14cd4da66c13')\"\n",
              "              title=\"Convert this dataframe to an interactive table.\"\n",
              "              style=\"display:none;\">\n",
              "        \n",
              "  <svg xmlns=\"http://www.w3.org/2000/svg\" height=\"24px\"viewBox=\"0 0 24 24\"\n",
              "       width=\"24px\">\n",
              "    <path d=\"M0 0h24v24H0V0z\" fill=\"none\"/>\n",
              "    <path d=\"M18.56 5.44l.94 2.06.94-2.06 2.06-.94-2.06-.94-.94-2.06-.94 2.06-2.06.94zm-11 1L8.5 8.5l.94-2.06 2.06-.94-2.06-.94L8.5 2.5l-.94 2.06-2.06.94zm10 10l.94 2.06.94-2.06 2.06-.94-2.06-.94-.94-2.06-.94 2.06-2.06.94z\"/><path d=\"M17.41 7.96l-1.37-1.37c-.4-.4-.92-.59-1.43-.59-.52 0-1.04.2-1.43.59L10.3 9.45l-7.72 7.72c-.78.78-.78 2.05 0 2.83L4 21.41c.39.39.9.59 1.41.59.51 0 1.02-.2 1.41-.59l7.78-7.78 2.81-2.81c.8-.78.8-2.07 0-2.86zM5.41 20L4 18.59l7.72-7.72 1.47 1.35L5.41 20z\"/>\n",
              "  </svg>\n",
              "      </button>\n",
              "      \n",
              "  <style>\n",
              "    .colab-df-container {\n",
              "      display:flex;\n",
              "      flex-wrap:wrap;\n",
              "      gap: 12px;\n",
              "    }\n",
              "\n",
              "    .colab-df-convert {\n",
              "      background-color: #E8F0FE;\n",
              "      border: none;\n",
              "      border-radius: 50%;\n",
              "      cursor: pointer;\n",
              "      display: none;\n",
              "      fill: #1967D2;\n",
              "      height: 32px;\n",
              "      padding: 0 0 0 0;\n",
              "      width: 32px;\n",
              "    }\n",
              "\n",
              "    .colab-df-convert:hover {\n",
              "      background-color: #E2EBFA;\n",
              "      box-shadow: 0px 1px 2px rgba(60, 64, 67, 0.3), 0px 1px 3px 1px rgba(60, 64, 67, 0.15);\n",
              "      fill: #174EA6;\n",
              "    }\n",
              "\n",
              "    [theme=dark] .colab-df-convert {\n",
              "      background-color: #3B4455;\n",
              "      fill: #D2E3FC;\n",
              "    }\n",
              "\n",
              "    [theme=dark] .colab-df-convert:hover {\n",
              "      background-color: #434B5C;\n",
              "      box-shadow: 0px 1px 3px 1px rgba(0, 0, 0, 0.15);\n",
              "      filter: drop-shadow(0px 1px 2px rgba(0, 0, 0, 0.3));\n",
              "      fill: #FFFFFF;\n",
              "    }\n",
              "  </style>\n",
              "\n",
              "      <script>\n",
              "        const buttonEl =\n",
              "          document.querySelector('#df-323a27bb-2244-40c5-bc9a-14cd4da66c13 button.colab-df-convert');\n",
              "        buttonEl.style.display =\n",
              "          google.colab.kernel.accessAllowed ? 'block' : 'none';\n",
              "\n",
              "        async function convertToInteractive(key) {\n",
              "          const element = document.querySelector('#df-323a27bb-2244-40c5-bc9a-14cd4da66c13');\n",
              "          const dataTable =\n",
              "            await google.colab.kernel.invokeFunction('convertToInteractive',\n",
              "                                                     [key], {});\n",
              "          if (!dataTable) return;\n",
              "\n",
              "          const docLinkHtml = 'Like what you see? Visit the ' +\n",
              "            '<a target=\"_blank\" href=https://colab.research.google.com/notebooks/data_table.ipynb>data table notebook</a>'\n",
              "            + ' to learn more about interactive tables.';\n",
              "          element.innerHTML = '';\n",
              "          dataTable['output_type'] = 'display_data';\n",
              "          await google.colab.output.renderOutput(dataTable, element);\n",
              "          const docLink = document.createElement('div');\n",
              "          docLink.innerHTML = docLinkHtml;\n",
              "          element.appendChild(docLink);\n",
              "        }\n",
              "      </script>\n",
              "    </div>\n",
              "  </div>\n",
              "  "
            ]
          },
          "metadata": {},
          "execution_count": 28
        }
      ]
    },
    {
      "cell_type": "markdown",
      "source": [
        "Traspose operation "
      ],
      "metadata": {
        "id": "Xbg-v8CqerlQ"
      }
    },
    {
      "cell_type": "code",
      "source": [
        "df.T"
      ],
      "metadata": {
        "colab": {
          "base_uri": "https://localhost:8080/",
          "height": 223
        },
        "id": "obYAb_lZeaCQ",
        "outputId": "fd7034eb-ba61-424b-b47d-1ca7953a6825"
      },
      "execution_count": null,
      "outputs": [
        {
          "output_type": "execute_result",
          "data": {
            "text/plain": [
              "                            0            1            2            3   \\\n",
              "Population growth      0.76046     0.848661     0.748366     0.650258   \n",
              "Year                1961.00000  1962.000000  1963.000000  1964.000000   \n",
              "\n",
              "                             4            5            6            7   \\\n",
              "Population growth      0.642469     0.551303     0.538544     0.486768   \n",
              "Year                1965.000000  1966.000000  1967.000000  1968.000000   \n",
              "\n",
              "                             8            9   ...           51           52  \\\n",
              "Population growth      0.415803     0.398722  ...     0.695353     0.669741   \n",
              "Year                1969.000000  1970.000000  ...  2012.000000  2013.000000   \n",
              "\n",
              "                             53           54           55           56  \\\n",
              "Population growth      0.736464     0.792368     0.757874     0.679374   \n",
              "Year                2014.000000  2015.000000  2016.000000  2017.000000   \n",
              "\n",
              "                             57           58           59          60  \n",
              "Population growth      0.605929     0.564131     0.365409     0.36541  \n",
              "Year                2018.000000  2019.000000  2020.000000  2021.00000  \n",
              "\n",
              "[2 rows x 61 columns]"
            ],
            "text/html": [
              "\n",
              "  <div id=\"df-1d43961f-65cd-430b-a8ac-d49446f323b4\">\n",
              "    <div class=\"colab-df-container\">\n",
              "      <div>\n",
              "<style scoped>\n",
              "    .dataframe tbody tr th:only-of-type {\n",
              "        vertical-align: middle;\n",
              "    }\n",
              "\n",
              "    .dataframe tbody tr th {\n",
              "        vertical-align: top;\n",
              "    }\n",
              "\n",
              "    .dataframe thead th {\n",
              "        text-align: right;\n",
              "    }\n",
              "</style>\n",
              "<table border=\"1\" class=\"dataframe\">\n",
              "  <thead>\n",
              "    <tr style=\"text-align: right;\">\n",
              "      <th></th>\n",
              "      <th>0</th>\n",
              "      <th>1</th>\n",
              "      <th>2</th>\n",
              "      <th>3</th>\n",
              "      <th>4</th>\n",
              "      <th>5</th>\n",
              "      <th>6</th>\n",
              "      <th>7</th>\n",
              "      <th>8</th>\n",
              "      <th>9</th>\n",
              "      <th>...</th>\n",
              "      <th>51</th>\n",
              "      <th>52</th>\n",
              "      <th>53</th>\n",
              "      <th>54</th>\n",
              "      <th>55</th>\n",
              "      <th>56</th>\n",
              "      <th>57</th>\n",
              "      <th>58</th>\n",
              "      <th>59</th>\n",
              "      <th>60</th>\n",
              "    </tr>\n",
              "  </thead>\n",
              "  <tbody>\n",
              "    <tr>\n",
              "      <th>Population growth</th>\n",
              "      <td>0.76046</td>\n",
              "      <td>0.848661</td>\n",
              "      <td>0.748366</td>\n",
              "      <td>0.650258</td>\n",
              "      <td>0.642469</td>\n",
              "      <td>0.551303</td>\n",
              "      <td>0.538544</td>\n",
              "      <td>0.486768</td>\n",
              "      <td>0.415803</td>\n",
              "      <td>0.398722</td>\n",
              "      <td>...</td>\n",
              "      <td>0.695353</td>\n",
              "      <td>0.669741</td>\n",
              "      <td>0.736464</td>\n",
              "      <td>0.792368</td>\n",
              "      <td>0.757874</td>\n",
              "      <td>0.679374</td>\n",
              "      <td>0.605929</td>\n",
              "      <td>0.564131</td>\n",
              "      <td>0.365409</td>\n",
              "      <td>0.36541</td>\n",
              "    </tr>\n",
              "    <tr>\n",
              "      <th>Year</th>\n",
              "      <td>1961.00000</td>\n",
              "      <td>1962.000000</td>\n",
              "      <td>1963.000000</td>\n",
              "      <td>1964.000000</td>\n",
              "      <td>1965.000000</td>\n",
              "      <td>1966.000000</td>\n",
              "      <td>1967.000000</td>\n",
              "      <td>1968.000000</td>\n",
              "      <td>1969.000000</td>\n",
              "      <td>1970.000000</td>\n",
              "      <td>...</td>\n",
              "      <td>2012.000000</td>\n",
              "      <td>2013.000000</td>\n",
              "      <td>2014.000000</td>\n",
              "      <td>2015.000000</td>\n",
              "      <td>2016.000000</td>\n",
              "      <td>2017.000000</td>\n",
              "      <td>2018.000000</td>\n",
              "      <td>2019.000000</td>\n",
              "      <td>2020.000000</td>\n",
              "      <td>2021.00000</td>\n",
              "    </tr>\n",
              "  </tbody>\n",
              "</table>\n",
              "<p>2 rows × 61 columns</p>\n",
              "</div>\n",
              "      <button class=\"colab-df-convert\" onclick=\"convertToInteractive('df-1d43961f-65cd-430b-a8ac-d49446f323b4')\"\n",
              "              title=\"Convert this dataframe to an interactive table.\"\n",
              "              style=\"display:none;\">\n",
              "        \n",
              "  <svg xmlns=\"http://www.w3.org/2000/svg\" height=\"24px\"viewBox=\"0 0 24 24\"\n",
              "       width=\"24px\">\n",
              "    <path d=\"M0 0h24v24H0V0z\" fill=\"none\"/>\n",
              "    <path d=\"M18.56 5.44l.94 2.06.94-2.06 2.06-.94-2.06-.94-.94-2.06-.94 2.06-2.06.94zm-11 1L8.5 8.5l.94-2.06 2.06-.94-2.06-.94L8.5 2.5l-.94 2.06-2.06.94zm10 10l.94 2.06.94-2.06 2.06-.94-2.06-.94-.94-2.06-.94 2.06-2.06.94z\"/><path d=\"M17.41 7.96l-1.37-1.37c-.4-.4-.92-.59-1.43-.59-.52 0-1.04.2-1.43.59L10.3 9.45l-7.72 7.72c-.78.78-.78 2.05 0 2.83L4 21.41c.39.39.9.59 1.41.59.51 0 1.02-.2 1.41-.59l7.78-7.78 2.81-2.81c.8-.78.8-2.07 0-2.86zM5.41 20L4 18.59l7.72-7.72 1.47 1.35L5.41 20z\"/>\n",
              "  </svg>\n",
              "      </button>\n",
              "      \n",
              "  <style>\n",
              "    .colab-df-container {\n",
              "      display:flex;\n",
              "      flex-wrap:wrap;\n",
              "      gap: 12px;\n",
              "    }\n",
              "\n",
              "    .colab-df-convert {\n",
              "      background-color: #E8F0FE;\n",
              "      border: none;\n",
              "      border-radius: 50%;\n",
              "      cursor: pointer;\n",
              "      display: none;\n",
              "      fill: #1967D2;\n",
              "      height: 32px;\n",
              "      padding: 0 0 0 0;\n",
              "      width: 32px;\n",
              "    }\n",
              "\n",
              "    .colab-df-convert:hover {\n",
              "      background-color: #E2EBFA;\n",
              "      box-shadow: 0px 1px 2px rgba(60, 64, 67, 0.3), 0px 1px 3px 1px rgba(60, 64, 67, 0.15);\n",
              "      fill: #174EA6;\n",
              "    }\n",
              "\n",
              "    [theme=dark] .colab-df-convert {\n",
              "      background-color: #3B4455;\n",
              "      fill: #D2E3FC;\n",
              "    }\n",
              "\n",
              "    [theme=dark] .colab-df-convert:hover {\n",
              "      background-color: #434B5C;\n",
              "      box-shadow: 0px 1px 3px 1px rgba(0, 0, 0, 0.15);\n",
              "      filter: drop-shadow(0px 1px 2px rgba(0, 0, 0, 0.3));\n",
              "      fill: #FFFFFF;\n",
              "    }\n",
              "  </style>\n",
              "\n",
              "      <script>\n",
              "        const buttonEl =\n",
              "          document.querySelector('#df-1d43961f-65cd-430b-a8ac-d49446f323b4 button.colab-df-convert');\n",
              "        buttonEl.style.display =\n",
              "          google.colab.kernel.accessAllowed ? 'block' : 'none';\n",
              "\n",
              "        async function convertToInteractive(key) {\n",
              "          const element = document.querySelector('#df-1d43961f-65cd-430b-a8ac-d49446f323b4');\n",
              "          const dataTable =\n",
              "            await google.colab.kernel.invokeFunction('convertToInteractive',\n",
              "                                                     [key], {});\n",
              "          if (!dataTable) return;\n",
              "\n",
              "          const docLinkHtml = 'Like what you see? Visit the ' +\n",
              "            '<a target=\"_blank\" href=https://colab.research.google.com/notebooks/data_table.ipynb>data table notebook</a>'\n",
              "            + ' to learn more about interactive tables.';\n",
              "          element.innerHTML = '';\n",
              "          dataTable['output_type'] = 'display_data';\n",
              "          await google.colab.output.renderOutput(dataTable, element);\n",
              "          const docLink = document.createElement('div');\n",
              "          docLink.innerHTML = docLinkHtml;\n",
              "          element.appendChild(docLink);\n",
              "        }\n",
              "      </script>\n",
              "    </div>\n",
              "  </div>\n",
              "  "
            ]
          },
          "metadata": {},
          "execution_count": 27
        }
      ]
    },
    {
      "cell_type": "markdown",
      "source": [
        "Cell navigation: Ctrl + Enter runs the cell \n",
        "Alt+Enter runs and adds a new one below Shift+Enter runs the steps into the next cell "
      ],
      "metadata": {
        "id": "t4EIhdQ2rqRM"
      }
    },
    {
      "cell_type": "code",
      "source": [
        "df.head(4)"
      ],
      "metadata": {
        "colab": {
          "base_uri": "https://localhost:8080/",
          "height": 175
        },
        "id": "irxnnVNTfWw2",
        "outputId": "24083b1e-92f5-4dc7-a2d1-5af30b1e4bf8"
      },
      "execution_count": null,
      "outputs": [
        {
          "output_type": "execute_result",
          "data": {
            "text/plain": [
              "   Population growth   Year \n",
              "0            0.760460   1961\n",
              "1            0.848661   1962\n",
              "2            0.748366   1963\n",
              "3            0.650258   1964"
            ],
            "text/html": [
              "\n",
              "  <div id=\"df-190ed528-c26b-4df9-bea3-8cc44e47f61f\">\n",
              "    <div class=\"colab-df-container\">\n",
              "      <div>\n",
              "<style scoped>\n",
              "    .dataframe tbody tr th:only-of-type {\n",
              "        vertical-align: middle;\n",
              "    }\n",
              "\n",
              "    .dataframe tbody tr th {\n",
              "        vertical-align: top;\n",
              "    }\n",
              "\n",
              "    .dataframe thead th {\n",
              "        text-align: right;\n",
              "    }\n",
              "</style>\n",
              "<table border=\"1\" class=\"dataframe\">\n",
              "  <thead>\n",
              "    <tr style=\"text-align: right;\">\n",
              "      <th></th>\n",
              "      <th>Population growth</th>\n",
              "      <th>Year</th>\n",
              "    </tr>\n",
              "  </thead>\n",
              "  <tbody>\n",
              "    <tr>\n",
              "      <th>0</th>\n",
              "      <td>0.760460</td>\n",
              "      <td>1961</td>\n",
              "    </tr>\n",
              "    <tr>\n",
              "      <th>1</th>\n",
              "      <td>0.848661</td>\n",
              "      <td>1962</td>\n",
              "    </tr>\n",
              "    <tr>\n",
              "      <th>2</th>\n",
              "      <td>0.748366</td>\n",
              "      <td>1963</td>\n",
              "    </tr>\n",
              "    <tr>\n",
              "      <th>3</th>\n",
              "      <td>0.650258</td>\n",
              "      <td>1964</td>\n",
              "    </tr>\n",
              "  </tbody>\n",
              "</table>\n",
              "</div>\n",
              "      <button class=\"colab-df-convert\" onclick=\"convertToInteractive('df-190ed528-c26b-4df9-bea3-8cc44e47f61f')\"\n",
              "              title=\"Convert this dataframe to an interactive table.\"\n",
              "              style=\"display:none;\">\n",
              "        \n",
              "  <svg xmlns=\"http://www.w3.org/2000/svg\" height=\"24px\"viewBox=\"0 0 24 24\"\n",
              "       width=\"24px\">\n",
              "    <path d=\"M0 0h24v24H0V0z\" fill=\"none\"/>\n",
              "    <path d=\"M18.56 5.44l.94 2.06.94-2.06 2.06-.94-2.06-.94-.94-2.06-.94 2.06-2.06.94zm-11 1L8.5 8.5l.94-2.06 2.06-.94-2.06-.94L8.5 2.5l-.94 2.06-2.06.94zm10 10l.94 2.06.94-2.06 2.06-.94-2.06-.94-.94-2.06-.94 2.06-2.06.94z\"/><path d=\"M17.41 7.96l-1.37-1.37c-.4-.4-.92-.59-1.43-.59-.52 0-1.04.2-1.43.59L10.3 9.45l-7.72 7.72c-.78.78-.78 2.05 0 2.83L4 21.41c.39.39.9.59 1.41.59.51 0 1.02-.2 1.41-.59l7.78-7.78 2.81-2.81c.8-.78.8-2.07 0-2.86zM5.41 20L4 18.59l7.72-7.72 1.47 1.35L5.41 20z\"/>\n",
              "  </svg>\n",
              "      </button>\n",
              "      \n",
              "  <style>\n",
              "    .colab-df-container {\n",
              "      display:flex;\n",
              "      flex-wrap:wrap;\n",
              "      gap: 12px;\n",
              "    }\n",
              "\n",
              "    .colab-df-convert {\n",
              "      background-color: #E8F0FE;\n",
              "      border: none;\n",
              "      border-radius: 50%;\n",
              "      cursor: pointer;\n",
              "      display: none;\n",
              "      fill: #1967D2;\n",
              "      height: 32px;\n",
              "      padding: 0 0 0 0;\n",
              "      width: 32px;\n",
              "    }\n",
              "\n",
              "    .colab-df-convert:hover {\n",
              "      background-color: #E2EBFA;\n",
              "      box-shadow: 0px 1px 2px rgba(60, 64, 67, 0.3), 0px 1px 3px 1px rgba(60, 64, 67, 0.15);\n",
              "      fill: #174EA6;\n",
              "    }\n",
              "\n",
              "    [theme=dark] .colab-df-convert {\n",
              "      background-color: #3B4455;\n",
              "      fill: #D2E3FC;\n",
              "    }\n",
              "\n",
              "    [theme=dark] .colab-df-convert:hover {\n",
              "      background-color: #434B5C;\n",
              "      box-shadow: 0px 1px 3px 1px rgba(0, 0, 0, 0.15);\n",
              "      filter: drop-shadow(0px 1px 2px rgba(0, 0, 0, 0.3));\n",
              "      fill: #FFFFFF;\n",
              "    }\n",
              "  </style>\n",
              "\n",
              "      <script>\n",
              "        const buttonEl =\n",
              "          document.querySelector('#df-190ed528-c26b-4df9-bea3-8cc44e47f61f button.colab-df-convert');\n",
              "        buttonEl.style.display =\n",
              "          google.colab.kernel.accessAllowed ? 'block' : 'none';\n",
              "\n",
              "        async function convertToInteractive(key) {\n",
              "          const element = document.querySelector('#df-190ed528-c26b-4df9-bea3-8cc44e47f61f');\n",
              "          const dataTable =\n",
              "            await google.colab.kernel.invokeFunction('convertToInteractive',\n",
              "                                                     [key], {});\n",
              "          if (!dataTable) return;\n",
              "\n",
              "          const docLinkHtml = 'Like what you see? Visit the ' +\n",
              "            '<a target=\"_blank\" href=https://colab.research.google.com/notebooks/data_table.ipynb>data table notebook</a>'\n",
              "            + ' to learn more about interactive tables.';\n",
              "          element.innerHTML = '';\n",
              "          dataTable['output_type'] = 'display_data';\n",
              "          await google.colab.output.renderOutput(dataTable, element);\n",
              "          const docLink = document.createElement('div');\n",
              "          docLink.innerHTML = docLinkHtml;\n",
              "          element.appendChild(docLink);\n",
              "        }\n",
              "      </script>\n",
              "    </div>\n",
              "  </div>\n",
              "  "
            ]
          },
          "metadata": {},
          "execution_count": 28
        }
      ]
    },
    {
      "cell_type": "code",
      "source": [
        "exported_values = list(df.T.to_dict().values())"
      ],
      "metadata": {
        "id": "1bxWsRv2e3we"
      },
      "execution_count": null,
      "outputs": []
    },
    {
      "cell_type": "code",
      "source": [],
      "metadata": {
        "id": "5vowoeLO6R71"
      },
      "execution_count": null,
      "outputs": []
    },
    {
      "cell_type": "code",
      "source": [
        "import json"
      ],
      "metadata": {
        "id": "k51uFnr5hWuI"
      },
      "execution_count": null,
      "outputs": []
    },
    {
      "cell_type": "code",
      "source": [
        "# json.dumps(exported_values)"
      ],
      "metadata": {
        "id": "grMt4FDOiAHH"
      },
      "execution_count": null,
      "outputs": []
    },
    {
      "cell_type": "code",
      "source": [
        "open('my_first_json_file.json','w').write(json.dumps(exported_values))"
      ],
      "metadata": {
        "colab": {
          "base_uri": "https://localhost:8080/"
        },
        "id": "Jnj1W_tuhZKN",
        "outputId": "4868013e-fe9c-41f2-c38e-aacf89498c7e"
      },
      "execution_count": null,
      "outputs": [
        {
          "output_type": "execute_result",
          "data": {
            "text/plain": [
              "3290"
            ]
          },
          "metadata": {},
          "execution_count": 31
        }
      ]
    },
    {
      "cell_type": "code",
      "source": [
        "exported_values"
      ],
      "metadata": {
        "colab": {
          "base_uri": "https://localhost:8080/"
        },
        "id": "1xxvVtgOhKVB",
        "outputId": "1b5ca951-ff4c-4684-bf1e-acc46841f750"
      },
      "execution_count": null,
      "outputs": [
        {
          "output_type": "execute_result",
          "data": {
            "text/plain": [
              "[{'Population growth ': 0.760459939, 'Year ': 1961.0},\n",
              " {'Population growth ': 0.848661388, 'Year ': 1962.0},\n",
              " {'Population growth ': 0.748366449, 'Year ': 1963.0},\n",
              " {'Population growth ': 0.650257749, 'Year ': 1964.0},\n",
              " {'Population growth ': 0.642468779, 'Year ': 1965.0},\n",
              " {'Population growth ': 0.551303249, 'Year ': 1966.0},\n",
              " {'Population growth ': 0.53854377, 'Year ': 1967.0},\n",
              " {'Population growth ': 0.48676828, 'Year ': 1968.0},\n",
              " {'Population growth ': 0.415803269, 'Year ': 1969.0},\n",
              " {'Population growth ': 0.398722458, 'Year ': 1970.0},\n",
              " {'Population growth ': 0.417666617, 'Year ': 1971.0},\n",
              " {'Population growth ': 0.339057516, 'Year ': 1972.0},\n",
              " {'Population growth ': 0.193198186, 'Year ': 1973.0},\n",
              " {'Population growth ': 0.06305921, 'Year ': 1974.0},\n",
              " {'Population growth ': -0.007423363, 'Year ': 1975.0},\n",
              " {'Population growth ': -0.024603833, 'Year ': 1976.0},\n",
              " {'Population growth ': -0.032873848, 'Year ': 1977.0},\n",
              " {'Population growth ': 0.005359908, 'Year ': 1978.0},\n",
              " {'Population growth ': 0.089728661, 'Year ': 1979.0},\n",
              " {'Population growth ': 0.119517254, 'Year ': 1980.0},\n",
              " {'Population growth ': 0.034821732, 'Year ': 1981.0},\n",
              " {'Population growth ': -0.035842794, 'Year ': 1982.0},\n",
              " {'Population growth ': 0.034101374, 'Year ': 1983.0},\n",
              " {'Population growth ': 0.158261863, 'Year ': 1984.0},\n",
              " {'Population growth ': 0.226951225, 'Year ': 1985.0},\n",
              " {'Population growth ': 0.23161023, 'Year ': 1986.0},\n",
              " {'Population growth ': 0.212637261, 'Year ': 1987.0},\n",
              " {'Population growth ': 0.222063894, 'Year ': 1988.0},\n",
              " {'Population growth ': 0.26031145, 'Year ': 1989.0},\n",
              " {'Population growth ': 0.298930554, 'Year ': 1990.0},\n",
              " {'Population growth ': 0.309247932, 'Year ': 1991.0},\n",
              " {'Population growth ': 0.270431182, 'Year ': 1992.0},\n",
              " {'Population growth ': 0.239745439, 'Year ': 1993.0},\n",
              " {'Population growth ': 0.254586487, 'Year ': 1994.0},\n",
              " {'Population growth ': 0.264547417, 'Year ': 1995.0},\n",
              " {'Population growth ': 0.254626384, 'Year ': 1996.0},\n",
              " {'Population growth ': 0.257553323, 'Year ': 1997.0},\n",
              " {'Population growth ': 0.291406085, 'Year ': 1998.0},\n",
              " {'Population growth ': 0.333405882, 'Year ': 1999.0},\n",
              " {'Population growth ': 0.357300887, 'Year ': 2000.0},\n",
              " {'Population growth ': 0.38497597, 'Year ': 2001.0},\n",
              " {'Population growth ': 0.42333708, 'Year ': 2002.0},\n",
              " {'Population growth ': 0.465641114, 'Year ': 2003.0},\n",
              " {'Population growth ': 0.568943113, 'Year ': 2004.0},\n",
              " {'Population growth ': 0.686611306, 'Year ': 2005.0},\n",
              " {'Population growth ': 0.735048678, 'Year ': 2006.0},\n",
              " {'Population growth ': 0.778666112, 'Year ': 2007.0},\n",
              " {'Population growth ': 0.787032622, 'Year ': 2008.0},\n",
              " {'Population growth ': 0.75639086, 'Year ': 2009.0},\n",
              " {'Population growth ': 0.783888647, 'Year ': 2010.0},\n",
              " {'Population growth ': 0.781506562, 'Year ': 2011.0},\n",
              " {'Population growth ': 0.695353132, 'Year ': 2012.0},\n",
              " {'Population growth ': 0.669740536, 'Year ': 2013.0},\n",
              " {'Population growth ': 0.736463979, 'Year ': 2014.0},\n",
              " {'Population growth ': 0.792367506, 'Year ': 2015.0},\n",
              " {'Population growth ': 0.757874493, 'Year ': 2016.0},\n",
              " {'Population growth ': 0.679374474, 'Year ': 2017.0},\n",
              " {'Population growth ': 0.605929132, 'Year ': 2018.0},\n",
              " {'Population growth ': 0.564131113, 'Year ': 2019.0},\n",
              " {'Population growth ': 0.365409432, 'Year ': 2020.0},\n",
              " {'Population growth ': 0.365409887, 'Year ': 2021.0}]"
            ]
          },
          "metadata": {},
          "execution_count": 32
        }
      ]
    },
    {
      "cell_type": "markdown",
      "source": [],
      "metadata": {
        "id": "n7U3iu5PrI_K"
      }
    }
  ]
}