{
  "nbformat": 4,
  "nbformat_minor": 0,
  "metadata": {
    "colab": {
      "provenance": [],
      "collapsed_sections": [],
      "authorship_tag": "ABX9TyMukgxvMj5Ra3DHuXd1G5YD",
      "include_colab_link": true
    },
    "kernelspec": {
      "name": "python3",
      "display_name": "Python 3"
    },
    "language_info": {
      "name": "python"
    }
  },
  "cells": [
    {
      "cell_type": "markdown",
      "metadata": {
        "id": "view-in-github",
        "colab_type": "text"
      },
      "source": [
        "<a href=\"https://colab.research.google.com/github/EmilyCharalambous/EmilyCharalambous.github.io/blob/main/Week3.ipynb\" target=\"_parent\"><img src=\"https://colab.research.google.com/assets/colab-badge.svg\" alt=\"Open In Colab\"/></a>"
      ]
    },
    {
      "cell_type": "markdown",
      "source": [
        "Arrays, vectors, `lists`  \n",
        "Cell navigation: `Ctrl+Enter` runs the cell  \n",
        "`Alt+Enter` runs and adds a new one below\n",
        "`Shift+Etner` runs and steps into the next cell "
      ],
      "metadata": {
        "id": "OPwPMYX9Bz_B"
      }
    },
    {
      "cell_type": "code",
      "source": [
        "a = [2,4,3,\"fdfd\",[5,6]]"
      ],
      "metadata": {
        "id": "NSMRz4jKB5LA"
      },
      "execution_count": null,
      "outputs": []
    },
    {
      "cell_type": "code",
      "source": [
        "a"
      ],
      "metadata": {
        "colab": {
          "base_uri": "https://localhost:8080/"
        },
        "id": "_rPNvj5DCAN8",
        "outputId": "b54da4b4-893d-47f5-9cd4-ad98735ad595"
      },
      "execution_count": null,
      "outputs": [
        {
          "output_type": "execute_result",
          "data": {
            "text/plain": [
              "[2, 4, 3, 'fdfd', [5, 6]]"
            ]
          },
          "metadata": {},
          "execution_count": 3
        }
      ]
    },
    {
      "cell_type": "code",
      "source": [
        "a[4][0]"
      ],
      "metadata": {
        "colab": {
          "base_uri": "https://localhost:8080/"
        },
        "id": "JnJurOOvCEsG",
        "outputId": "cfbe0ace-d0e7-4d0b-ec04-c387291e2826"
      },
      "execution_count": null,
      "outputs": [
        {
          "output_type": "execute_result",
          "data": {
            "text/plain": [
              "5"
            ]
          },
          "metadata": {},
          "execution_count": 4
        }
      ]
    },
    {
      "cell_type": "markdown",
      "source": [
        "This is a nice **comments**  \n",
        "Dictionary, Object, Hash table"
      ],
      "metadata": {
        "id": "XEgEtBB5CHhy"
      }
    },
    {
      "cell_type": "code",
      "source": [
        "b={'alfa':1,\n",
        "'beta':27, \n",
        "'gamma':[0,1,2],\n",
        "'delta':67.3,\n",
        "'ninety-eight':{\n",
        "    'a': 5, \n",
        "    'b':7}\n",
        "   }"
      ],
      "metadata": {
        "id": "jZx5G55aCRb-"
      },
      "execution_count": null,
      "outputs": []
    },
    {
      "cell_type": "code",
      "source": [
        "b['ninety-eight']['a']"
      ],
      "metadata": {
        "colab": {
          "base_uri": "https://localhost:8080/"
        },
        "id": "sv384BCsC2xC",
        "outputId": "09dfdddd-afca-4832-ac44-eb69e6432f39"
      },
      "execution_count": null,
      "outputs": [
        {
          "output_type": "execute_result",
          "data": {
            "text/plain": [
              "5"
            ]
          },
          "metadata": {},
          "execution_count": 10
        }
      ]
    },
    {
      "cell_type": "code",
      "source": [
        "b.keys(),b.values()"
      ],
      "metadata": {
        "colab": {
          "base_uri": "https://localhost:8080/"
        },
        "id": "h6pxYrREDA6k",
        "outputId": "22541876-5d5f-4abe-d29c-1f40c9221014"
      },
      "execution_count": null,
      "outputs": [
        {
          "output_type": "execute_result",
          "data": {
            "text/plain": [
              "(dict_keys(['alfa', 'beta', 'gamma', 'delta', 'ninety-eight']),\n",
              " dict_values([1, 27, [0, 1, 2], 67.3, {'a': 5, 'b': 7}]))"
            ]
          },
          "metadata": {},
          "execution_count": 11
        }
      ]
    },
    {
      "cell_type": "code",
      "source": [
        "import pandas as pd"
      ],
      "metadata": {
        "id": "tI2R1DZWDFm0"
      },
      "execution_count": null,
      "outputs": []
    },
    {
      "cell_type": "code",
      "source": [
        "df=pd.read_csv('GDP.csv')"
      ],
      "metadata": {
        "id": "G3bKUvy-DHlL"
      },
      "execution_count": null,
      "outputs": []
    },
    {
      "cell_type": "code",
      "source": [
        "df.head(4)"
      ],
      "metadata": {
        "colab": {
          "base_uri": "https://localhost:8080/",
          "height": 175
        },
        "id": "kmXdAXy6EBFI",
        "outputId": "39fe486e-e006-4f38-eefd-e328e444b592"
      },
      "execution_count": null,
      "outputs": [
        {
          "output_type": "execute_result",
          "data": {
            "text/plain": [
              "      Year     GDP\n",
              "0  1997 Q3  369141\n",
              "1  1997 Q4  374512\n",
              "2  1998 Q1  376761\n",
              "3  1998 Q2  378766"
            ],
            "text/html": [
              "\n",
              "  <div id=\"df-6915bc84-9f91-4204-8e46-7937aab09ec4\">\n",
              "    <div class=\"colab-df-container\">\n",
              "      <div>\n",
              "<style scoped>\n",
              "    .dataframe tbody tr th:only-of-type {\n",
              "        vertical-align: middle;\n",
              "    }\n",
              "\n",
              "    .dataframe tbody tr th {\n",
              "        vertical-align: top;\n",
              "    }\n",
              "\n",
              "    .dataframe thead th {\n",
              "        text-align: right;\n",
              "    }\n",
              "</style>\n",
              "<table border=\"1\" class=\"dataframe\">\n",
              "  <thead>\n",
              "    <tr style=\"text-align: right;\">\n",
              "      <th></th>\n",
              "      <th>Year</th>\n",
              "      <th>GDP</th>\n",
              "    </tr>\n",
              "  </thead>\n",
              "  <tbody>\n",
              "    <tr>\n",
              "      <th>0</th>\n",
              "      <td>1997 Q3</td>\n",
              "      <td>369141</td>\n",
              "    </tr>\n",
              "    <tr>\n",
              "      <th>1</th>\n",
              "      <td>1997 Q4</td>\n",
              "      <td>374512</td>\n",
              "    </tr>\n",
              "    <tr>\n",
              "      <th>2</th>\n",
              "      <td>1998 Q1</td>\n",
              "      <td>376761</td>\n",
              "    </tr>\n",
              "    <tr>\n",
              "      <th>3</th>\n",
              "      <td>1998 Q2</td>\n",
              "      <td>378766</td>\n",
              "    </tr>\n",
              "  </tbody>\n",
              "</table>\n",
              "</div>\n",
              "      <button class=\"colab-df-convert\" onclick=\"convertToInteractive('df-6915bc84-9f91-4204-8e46-7937aab09ec4')\"\n",
              "              title=\"Convert this dataframe to an interactive table.\"\n",
              "              style=\"display:none;\">\n",
              "        \n",
              "  <svg xmlns=\"http://www.w3.org/2000/svg\" height=\"24px\"viewBox=\"0 0 24 24\"\n",
              "       width=\"24px\">\n",
              "    <path d=\"M0 0h24v24H0V0z\" fill=\"none\"/>\n",
              "    <path d=\"M18.56 5.44l.94 2.06.94-2.06 2.06-.94-2.06-.94-.94-2.06-.94 2.06-2.06.94zm-11 1L8.5 8.5l.94-2.06 2.06-.94-2.06-.94L8.5 2.5l-.94 2.06-2.06.94zm10 10l.94 2.06.94-2.06 2.06-.94-2.06-.94-.94-2.06-.94 2.06-2.06.94z\"/><path d=\"M17.41 7.96l-1.37-1.37c-.4-.4-.92-.59-1.43-.59-.52 0-1.04.2-1.43.59L10.3 9.45l-7.72 7.72c-.78.78-.78 2.05 0 2.83L4 21.41c.39.39.9.59 1.41.59.51 0 1.02-.2 1.41-.59l7.78-7.78 2.81-2.81c.8-.78.8-2.07 0-2.86zM5.41 20L4 18.59l7.72-7.72 1.47 1.35L5.41 20z\"/>\n",
              "  </svg>\n",
              "      </button>\n",
              "      \n",
              "  <style>\n",
              "    .colab-df-container {\n",
              "      display:flex;\n",
              "      flex-wrap:wrap;\n",
              "      gap: 12px;\n",
              "    }\n",
              "\n",
              "    .colab-df-convert {\n",
              "      background-color: #E8F0FE;\n",
              "      border: none;\n",
              "      border-radius: 50%;\n",
              "      cursor: pointer;\n",
              "      display: none;\n",
              "      fill: #1967D2;\n",
              "      height: 32px;\n",
              "      padding: 0 0 0 0;\n",
              "      width: 32px;\n",
              "    }\n",
              "\n",
              "    .colab-df-convert:hover {\n",
              "      background-color: #E2EBFA;\n",
              "      box-shadow: 0px 1px 2px rgba(60, 64, 67, 0.3), 0px 1px 3px 1px rgba(60, 64, 67, 0.15);\n",
              "      fill: #174EA6;\n",
              "    }\n",
              "\n",
              "    [theme=dark] .colab-df-convert {\n",
              "      background-color: #3B4455;\n",
              "      fill: #D2E3FC;\n",
              "    }\n",
              "\n",
              "    [theme=dark] .colab-df-convert:hover {\n",
              "      background-color: #434B5C;\n",
              "      box-shadow: 0px 1px 3px 1px rgba(0, 0, 0, 0.15);\n",
              "      filter: drop-shadow(0px 1px 2px rgba(0, 0, 0, 0.3));\n",
              "      fill: #FFFFFF;\n",
              "    }\n",
              "  </style>\n",
              "\n",
              "      <script>\n",
              "        const buttonEl =\n",
              "          document.querySelector('#df-6915bc84-9f91-4204-8e46-7937aab09ec4 button.colab-df-convert');\n",
              "        buttonEl.style.display =\n",
              "          google.colab.kernel.accessAllowed ? 'block' : 'none';\n",
              "\n",
              "        async function convertToInteractive(key) {\n",
              "          const element = document.querySelector('#df-6915bc84-9f91-4204-8e46-7937aab09ec4');\n",
              "          const dataTable =\n",
              "            await google.colab.kernel.invokeFunction('convertToInteractive',\n",
              "                                                     [key], {});\n",
              "          if (!dataTable) return;\n",
              "\n",
              "          const docLinkHtml = 'Like what you see? Visit the ' +\n",
              "            '<a target=\"_blank\" href=https://colab.research.google.com/notebooks/data_table.ipynb>data table notebook</a>'\n",
              "            + ' to learn more about interactive tables.';\n",
              "          element.innerHTML = '';\n",
              "          dataTable['output_type'] = 'display_data';\n",
              "          await google.colab.output.renderOutput(dataTable, element);\n",
              "          const docLink = document.createElement('div');\n",
              "          docLink.innerHTML = docLinkHtml;\n",
              "          element.appendChild(docLink);\n",
              "        }\n",
              "      </script>\n",
              "    </div>\n",
              "  </div>\n",
              "  "
            ]
          },
          "metadata": {},
          "execution_count": 49
        }
      ]
    },
    {
      "cell_type": "code",
      "source": [
        "list ( df.T.to_dict().values() )"
      ],
      "metadata": {
        "colab": {
          "base_uri": "https://localhost:8080/"
        },
        "id": "2wo3R5X7HpQH",
        "outputId": "15cb2dff-143a-428f-d3ac-575a55b3eaf9"
      },
      "execution_count": null,
      "outputs": [
        {
          "output_type": "execute_result",
          "data": {
            "text/plain": [
              "[{'Year': '1997 Q3', 'GDP': 369141},\n",
              " {'Year': '1997 Q4', 'GDP': 374512},\n",
              " {'Year': '1998 Q1', 'GDP': 376761},\n",
              " {'Year': '1998 Q2', 'GDP': 378766},\n",
              " {'Year': '1998 Q3', 'GDP': 379906},\n",
              " {'Year': '1998 Q4', 'GDP': 382282},\n",
              " {'Year': '1999 Q1', 'GDP': 385025},\n",
              " {'Year': '1999 Q2', 'GDP': 386581},\n",
              " {'Year': '1999 Q3', 'GDP': 393078},\n",
              " {'Year': '1999 Q4', 'GDP': 398776},\n",
              " {'Year': '2000 Q1', 'GDP': 403407},\n",
              " {'Year': '2000 Q2', 'GDP': 406049},\n",
              " {'Year': '2000 Q3', 'GDP': 408120},\n",
              " {'Year': '2000 Q4', 'GDP': 409871},\n",
              " {'Year': '2001 Q1', 'GDP': 413381},\n",
              " {'Year': '2001 Q2', 'GDP': 414894},\n",
              " {'Year': '2001 Q3', 'GDP': 416803},\n",
              " {'Year': '2001 Q4', 'GDP': 417480},\n",
              " {'Year': '2002 Q1', 'GDP': 418930},\n",
              " {'Year': '2002 Q2', 'GDP': 421133},\n",
              " {'Year': '2002 Q3', 'GDP': 424190},\n",
              " {'Year': '2002 Q4', 'GDP': 427745},\n",
              " {'Year': '2003 Q1', 'GDP': 430454},\n",
              " {'Year': '2003 Q2', 'GDP': 434140},\n",
              " {'Year': '2003 Q3', 'GDP': 438419},\n",
              " {'Year': '2003 Q4', 'GDP': 441827},\n",
              " {'Year': '2004 Q1', 'GDP': 443792},\n",
              " {'Year': '2004 Q2', 'GDP': 446140},\n",
              " {'Year': '2004 Q3', 'GDP': 447205},\n",
              " {'Year': '2004 Q4', 'GDP': 448619},\n",
              " {'Year': '2005 Q1', 'GDP': 451985},\n",
              " {'Year': '2005 Q2', 'GDP': 456263},\n",
              " {'Year': '2005 Q3', 'GDP': 460177},\n",
              " {'Year': '2005 Q4', 'GDP': 464981},\n",
              " {'Year': '2006 Q1', 'GDP': 466584},\n",
              " {'Year': '2006 Q2', 'GDP': 467684},\n",
              " {'Year': '2006 Q3', 'GDP': 468351},\n",
              " {'Year': '2006 Q4', 'GDP': 470396},\n",
              " {'Year': '2007 Q1', 'GDP': 475292},\n",
              " {'Year': '2007 Q2', 'GDP': 478424},\n",
              " {'Year': '2007 Q3', 'GDP': 482064},\n",
              " {'Year': '2007 Q4', 'GDP': 485249},\n",
              " {'Year': '2008 Q1', 'GDP': 487601},\n",
              " {'Year': '2008 Q2', 'GDP': 485278},\n",
              " {'Year': '2008 Q3', 'GDP': 477935},\n",
              " {'Year': '2008 Q4', 'GDP': 467250},\n",
              " {'Year': '2009 Q1', 'GDP': 458181},\n",
              " {'Year': '2009 Q2', 'GDP': 456867},\n",
              " {'Year': '2009 Q3', 'GDP': 457471},\n",
              " {'Year': '2009 Q4', 'GDP': 459031},\n",
              " {'Year': '2010 Q1', 'GDP': 463391},\n",
              " {'Year': '2010 Q2', 'GDP': 468691},\n",
              " {'Year': '2010 Q3', 'GDP': 471664},\n",
              " {'Year': '2010 Q4', 'GDP': 472312},\n",
              " {'Year': '2011 Q1', 'GDP': 473510},\n",
              " {'Year': '2011 Q2', 'GDP': 473773},\n",
              " {'Year': '2011 Q3', 'GDP': 474501},\n",
              " {'Year': '2011 Q4', 'GDP': 474303},\n",
              " {'Year': '2012 Q1', 'GDP': 478242},\n",
              " {'Year': '2012 Q2', 'GDP': 477974},\n",
              " {'Year': '2012 Q3', 'GDP': 483913},\n",
              " {'Year': '2012 Q4', 'GDP': 483422},\n",
              " {'Year': '2013 Q1', 'GDP': 484555},\n",
              " {'Year': '2013 Q2', 'GDP': 487845},\n",
              " {'Year': '2013 Q3', 'GDP': 491499},\n",
              " {'Year': '2013 Q4', 'GDP': 494658},\n",
              " {'Year': '2014 Q1', 'GDP': 499294},\n",
              " {'Year': '2014 Q2', 'GDP': 503659},\n",
              " {'Year': '2014 Q3', 'GDP': 507485},\n",
              " {'Year': '2014 Q4', 'GDP': 510787},\n",
              " {'Year': '2015 Q1', 'GDP': 512895},\n",
              " {'Year': '2015 Q2', 'GDP': 516141},\n",
              " {'Year': '2015 Q3', 'GDP': 518365},\n",
              " {'Year': '2015 Q4', 'GDP': 522194},\n",
              " {'Year': '2016 Q1', 'GDP': 524102},\n",
              " {'Year': '2016 Q2', 'GDP': 527401},\n",
              " {'Year': '2016 Q3', 'GDP': 529730},\n",
              " {'Year': '2016 Q4', 'GDP': 533173},\n",
              " {'Year': '2017 Q1', 'GDP': 537114},\n",
              " {'Year': '2017 Q2', 'GDP': 539994},\n",
              " {'Year': '2017 Q3', 'GDP': 542780},\n",
              " {'Year': '2017 Q4', 'GDP': 546185},\n",
              " {'Year': '2018 Q1', 'GDP': 547003},\n",
              " {'Year': '2018 Q2', 'GDP': 549491},\n",
              " {'Year': '2018 Q3', 'GDP': 552545},\n",
              " {'Year': '2018 Q4', 'GDP': 553966},\n",
              " {'Year': '2019 Q1', 'GDP': 557458},\n",
              " {'Year': '2019 Q2', 'GDP': 558071},\n",
              " {'Year': '2019 Q3', 'GDP': 561480},\n",
              " {'Year': '2019 Q4', 'GDP': 561339},\n",
              " {'Year': '2020 Q1', 'GDP': 546515},\n",
              " {'Year': '2020 Q2', 'GDP': 431794},\n",
              " {'Year': '2020 Q3', 'GDP': 503509},\n",
              " {'Year': '2020 Q4', 'GDP': 509621},\n",
              " {'Year': '2021 Q1', 'GDP': 503663},\n",
              " {'Year': '2021 Q2', 'GDP': 536608},\n",
              " {'Year': '2021 Q3', 'GDP': 546084},\n",
              " {'Year': '2021 Q4', 'GDP': 554938},\n",
              " {'Year': '2022 Q1', 'GDP': 558776},\n",
              " {'Year': '2022 Q2', 'GDP': 560089}]"
            ]
          },
          "metadata": {},
          "execution_count": 50
        }
      ]
    },
    {
      "cell_type": "code",
      "source": [
        "exported_values = list( df.T.to_dict().values() )"
      ],
      "metadata": {
        "id": "-Y-aVKPKEEwO"
      },
      "execution_count": null,
      "outputs": []
    },
    {
      "cell_type": "code",
      "source": [
        "import json "
      ],
      "metadata": {
        "id": "tei9qMapETcT"
      },
      "execution_count": null,
      "outputs": []
    },
    {
      "cell_type": "code",
      "source": [
        "open('my_first_json_file.json', 'w').write( json.dumps(exported_values) )"
      ],
      "metadata": {
        "colab": {
          "base_uri": "https://localhost:8080/"
        },
        "id": "AXQLP1MQEWXt",
        "outputId": "aeb64312-1908-43ca-8f2b-a78cce200cd3"
      },
      "execution_count": null,
      "outputs": [
        {
          "output_type": "execute_result",
          "data": {
            "text/plain": [
              "3600"
            ]
          },
          "metadata": {},
          "execution_count": 53
        }
      ]
    }
  ]
}