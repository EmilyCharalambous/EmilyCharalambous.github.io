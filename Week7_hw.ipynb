{
  "nbformat": 4,
  "nbformat_minor": 0,
  "metadata": {
    "colab": {
      "provenance": [],
      "authorship_tag": "ABX9TyPyLPh3GSofe2EfpPfA5A6R",
      "include_colab_link": true
    },
    "kernelspec": {
      "name": "python3",
      "display_name": "Python 3"
    },
    "language_info": {
      "name": "python"
    }
  },
  "cells": [
    {
      "cell_type": "markdown",
      "metadata": {
        "id": "view-in-github",
        "colab_type": "text"
      },
      "source": [
        "<a href=\"https://colab.research.google.com/github/EmilyCharalambous/EmilyCharalambous.github.io/blob/main/Week7_hw.ipynb\" target=\"_parent\"><img src=\"https://colab.research.google.com/assets/colab-badge.svg\" alt=\"Open In Colab\"/></a>"
      ]
    },
    {
      "cell_type": "code",
      "execution_count": 2,
      "metadata": {
        "id": "Ekni0ZPqDpj7"
      },
      "outputs": [],
      "source": [
        "import pandas as pd "
      ]
    },
    {
      "cell_type": "code",
      "source": [
        "data=pd.read_csv('https://raw.githubusercontent.com/EmilyCharalambous/EmilyCharalambous.github.io/main/UK%20Cities.csv')"
      ],
      "metadata": {
        "id": "NXMm_2tlKYWW"
      },
      "execution_count": 5,
      "outputs": []
    },
    {
      "cell_type": "code",
      "source": [
        "data=pd.read_csv('https://raw.githubusercontent.com/EmilyCharalambous/EmilyCharalambous.github.io/main/UK%20Cities.csv').set_index('UK Cities')"
      ],
      "metadata": {
        "id": "TJfn3bsUKuaO"
      },
      "execution_count": 6,
      "outputs": []
    }
  ]
}